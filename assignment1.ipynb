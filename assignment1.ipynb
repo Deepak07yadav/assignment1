{
 "cells": [
  {
   "cell_type": "code",
   "execution_count": null,
   "id": "b6451d06-8da1-4df7-ba92-5b2d94592857",
   "metadata": {},
   "outputs": [],
   "source": [
    "#ASSIGNMET "
   ]
  },
  {
   "cell_type": "code",
   "execution_count": null,
   "id": "50c3f58e-fcd7-44d2-aac8-d1e354c43e85",
   "metadata": {},
   "outputs": [],
   "source": [
    "1.Who is the developer of python?\n",
    "ans: Guido van rossum"
   ]
  },
  {
   "cell_type": "code",
   "execution_count": null,
   "id": "702333b7-95b5-4529-99e4-2a3a2ba3c43d",
   "metadata": {},
   "outputs": [],
   "source": [
    "2.Which type of programing does pyton support?\n",
    "ans: object oriented programing "
   ]
  },
  {
   "cell_type": "code",
   "execution_count": null,
   "id": "70c7479b-baff-4d9d-9f90-05b3edb16f3b",
   "metadata": {},
   "outputs": [],
   "source": [
    "3.is python case sensitive when dealing with identifiers ?\n",
    "ans:yes"
   ]
  },
  {
   "cell_type": "code",
   "execution_count": null,
   "id": "c4119434-8a1a-4931-8ac1-6e556903e4b9",
   "metadata": {},
   "outputs": [],
   "source": [
    "4.what is the correct extension of the python file?\n",
    "ans: .py"
   ]
  },
  {
   "cell_type": "code",
   "execution_count": null,
   "id": "d891ece2-4f41-45f0-8dfa-8269e8384149",
   "metadata": {},
   "outputs": [],
   "source": [
    "5.Is python code compiled or interpreted?\n",
    "ans:Iterpreted"
   ]
  },
  {
   "cell_type": "code",
   "execution_count": null,
   "id": "ff70fd7e-8271-4921-b46c-e9b1493b96e2",
   "metadata": {},
   "outputs": [],
   "source": [
    "6.Name a few blocks of code used to define in python language?\n",
    "ans:a module,funtion body and a class definiton .Each command typed interactively is a block."
   ]
  },
  {
   "cell_type": "code",
   "execution_count": null,
   "id": "5fcf5a74-d050-4304-84ca-8ae824d3e836",
   "metadata": {},
   "outputs": [],
   "source": [
    "7.State a character used to give single-line comments in python?\n",
    "ans:\"#\" used to give single line comment."
   ]
  },
  {
   "cell_type": "code",
   "execution_count": null,
   "id": "7fc4302f-4ae1-4e4f-9633-4cee07b00d1b",
   "metadata": {},
   "outputs": [],
   "source": [
    "8.Mention functions which can help us to find the version of python that we are currently working on?\n",
    "ans:python_version() function is used to find the version of python."
   ]
  },
  {
   "cell_type": "code",
   "execution_count": null,
   "id": "992a0ec9-7c86-4679-87f3-e3cafc7a0403",
   "metadata": {},
   "outputs": [],
   "source": [
    "9.python supports the creation of annonymous functions at run time, suing a construct called?\n",
    "ans:lambda."
   ]
  },
  {
   "cell_type": "code",
   "execution_count": null,
   "id": "4a892166-a676-4bd7-a7d4-2ec96729f804",
   "metadata": {},
   "outputs": [],
   "source": [
    "10.what does pip stand for pyton ?\n",
    "ans:Developed in 2008, pip (an acronym of “pip Install Packages”) is today the standard tool for installing Python packages and their dependencies in a secure manner. Most recent distributions of Python come with pip preinstalled."
   ]
  },
  {
   "cell_type": "code",
   "execution_count": null,
   "id": "c2393fd7-fd47-4d3e-82f2-34506e07ee20",
   "metadata": {},
   "outputs": [],
   "source": [
    "11.Menation a few built-in funtions in pyhton?\n",
    "ans: insert(),pop(),list(),print() etc."
   ]
  },
  {
   "cell_type": "code",
   "execution_count": null,
   "id": "7b8c7b37-6181-44cf-b378-6efc35636c62",
   "metadata": {},
   "outputs": [],
   "source": [
    "12.what are the maximum possible length of an identifier in python?\n",
    "ans:An identifieer can have a maximum length of 79 character in python."
   ]
  },
  {
   "cell_type": "code",
   "execution_count": null,
   "id": "3b8e1cc6-91f4-44b8-be32-6f7b833096b3",
   "metadata": {},
   "outputs": [],
   "source": [
    "13.What are the benefits of using python?\n",
    "ans:1.easy to use and understand\n",
    "2.free and open source\n",
    "3.extensible library\n",
    "4.supportive community\n",
    "5.portability\n",
    "6.dynamically typed\n",
    "7.interpreted language"
   ]
  },
  {
   "cell_type": "code",
   "execution_count": null,
   "id": "c0adb70f-ca22-4f54-ab98-14ec8297b6bf",
   "metadata": {},
   "outputs": [],
   "source": [
    "14.How is memory managed in python?\n",
    "ans:The memory is a heap that stores the object of programs and other data structures.The Python memory manager uses API methods to handle the allocation and deallocation of this heap space."
   ]
  },
  {
   "cell_type": "code",
   "execution_count": null,
   "id": "039ea9ca-4ccf-4788-b783-2c39c9c1969f",
   "metadata": {},
   "outputs": [],
   "source": [
    "15.How to install python on windows and set path variables?\n",
    "ans:dowload the pyhton on window then apply folowing steps.\n",
    "Right click on My Computer and click on properties.\n",
    "Click on Advanced System settings.\n",
    "Click on Environment Variable tab.\n",
    "Click on new tab of user variables.\n",
    "Write path in variable name.\n",
    "Copy the path of Python folder.\n",
    "Paste path of Python in variable value. Click on Ok button: Click on Ok button"
   ]
  },
  {
   "cell_type": "code",
   "execution_count": null,
   "id": "30cf048f-9046-4209-a806-8f5e67b728d3",
   "metadata": {},
   "outputs": [],
   "source": [
    "16.is indentation required in python?\n",
    "ans:yes indentation is required in python."
   ]
  },
  {
   "cell_type": "code",
   "execution_count": null,
   "id": "f3bd5d05-cba3-49db-9259-50f105fa210e",
   "metadata": {},
   "outputs": [],
   "source": []
  }
 ],
 "metadata": {
  "kernelspec": {
   "display_name": "Python 3 (ipykernel)",
   "language": "python",
   "name": "python3"
  },
  "language_info": {
   "codemirror_mode": {
    "name": "ipython",
    "version": 3
   },
   "file_extension": ".py",
   "mimetype": "text/x-python",
   "name": "python",
   "nbconvert_exporter": "python",
   "pygments_lexer": "ipython3",
   "version": "3.10.8"
  },
  "toc-showtags": false
 },
 "nbformat": 4,
 "nbformat_minor": 5
}
